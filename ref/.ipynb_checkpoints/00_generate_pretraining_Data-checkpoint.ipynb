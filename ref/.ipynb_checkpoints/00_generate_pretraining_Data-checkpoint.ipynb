{
 "cells": [
  {
   "cell_type": "code",
   "execution_count": null,
   "id": "44fc6de0-3201-4df2-8e31-2d6b8c59ae0f",
   "metadata": {},
   "outputs": [],
   "source": [
    "#####---------------------------------------------------------------------#####\n",
    "##### PREPROCESSING \n",
    "#####---------------------------------------------------------------------#####\n",
    "\n",
    "import pandas as pd\n",
    "import pathlib\n",
    "import os\n",
    "from tqdm import tqdm\n",
    "\n",
    "workdir = \"./workdir\"\n",
    "os.system(\"mkdir -p {}\".format(workdir))\n",
    "\n",
    "if os.path.isfile(os.path.join(workdir, \"pretraining_data.txt\")) == False:\n",
    "    datadir = \"/mnt/WORKDIR/hieunguyen/dataset/GS_Data_Test_for_candidates\"\n",
    "    inputdata = pd.read_csv(os.path.join(datadir, \"interview-test-data.csv\"))\n",
    "    inputdata[\"string\"] = inputdata[[\"TCR\", \"antigen\"]].apply(lambda x: \"{} [SEP] {}\".format(\" \".join([item for item in x[0]]), \n",
    "                                                                                             \" \".join([item for item in x[1]])), axis = 1)\n",
    "    inputdata[\"string\"].to_csv(os.path.join(workdir, \"pretraining_data.txt\"), sep = \"\\t\", header = False, index = False)\n"
   ]
  }
 ],
 "metadata": {
  "kernelspec": {
   "display_name": "Python 3 (ipykernel)",
   "language": "python",
   "name": "python3"
  },
  "language_info": {
   "codemirror_mode": {
    "name": "ipython",
    "version": 3
   },
   "file_extension": ".py",
   "mimetype": "text/x-python",
   "name": "python",
   "nbconvert_exporter": "python",
   "pygments_lexer": "ipython3",
   "version": "3.12.2"
  }
 },
 "nbformat": 4,
 "nbformat_minor": 5
}
